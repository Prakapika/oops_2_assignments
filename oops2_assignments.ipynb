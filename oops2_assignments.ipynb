{
 "cells": [
  {
   "cell_type": "code",
   "execution_count": 1,
   "id": "ea34da5f",
   "metadata": {},
   "outputs": [],
   "source": [
    "class Calculator:\n",
    "\n",
    "    def __init__(self,num1, num2):\n",
    "        self.num1 = num1\n",
    "        self.num2 = num2\n",
    "        \n",
    "    def add(self):\n",
    "        sum = self.num1 + self.num2\n",
    "        return sum\n",
    "    \n",
    "    def subtract(self):\n",
    "        minus = self.num1 - self.num2\n",
    "        return minus\n",
    "    \n",
    "    def multiply(self):\n",
    "        mul = self.num1 * self.num2\n",
    "        return mul\n",
    "    \n",
    "    def divide(self):\n",
    "        division = self.num1/self.num2\n",
    "        return division"
   ]
  },
  {
   "cell_type": "code",
   "execution_count": 7,
   "id": "45a564b7",
   "metadata": {},
   "outputs": [],
   "source": [
    "calci = Calculator(7,2)"
   ]
  },
  {
   "cell_type": "code",
   "execution_count": 8,
   "id": "2a41f793",
   "metadata": {},
   "outputs": [
    {
     "data": {
      "text/plain": [
       "9"
      ]
     },
     "execution_count": 8,
     "metadata": {},
     "output_type": "execute_result"
    }
   ],
   "source": [
    "calci.add()"
   ]
  },
  {
   "cell_type": "code",
   "execution_count": 9,
   "id": "22a933c5",
   "metadata": {},
   "outputs": [
    {
     "data": {
      "text/plain": [
       "5"
      ]
     },
     "execution_count": 9,
     "metadata": {},
     "output_type": "execute_result"
    }
   ],
   "source": [
    "calci.subtract()"
   ]
  },
  {
   "cell_type": "code",
   "execution_count": 10,
   "id": "310b4cae",
   "metadata": {},
   "outputs": [
    {
     "data": {
      "text/plain": [
       "14"
      ]
     },
     "execution_count": 10,
     "metadata": {},
     "output_type": "execute_result"
    }
   ],
   "source": [
    "calci.multiply()"
   ]
  },
  {
   "cell_type": "code",
   "execution_count": 11,
   "id": "aef66e08",
   "metadata": {},
   "outputs": [
    {
     "data": {
      "text/plain": [
       "3.5"
      ]
     },
     "execution_count": 11,
     "metadata": {},
     "output_type": "execute_result"
    }
   ],
   "source": [
    "calci.divide()"
   ]
  },
  {
   "cell_type": "code",
   "execution_count": null,
   "id": "4609c2e5",
   "metadata": {},
   "outputs": [],
   "source": []
  }
 ],
 "metadata": {
  "kernelspec": {
   "display_name": "Python 3 (ipykernel)",
   "language": "python",
   "name": "python3"
  },
  "language_info": {
   "codemirror_mode": {
    "name": "ipython",
    "version": 3
   },
   "file_extension": ".py",
   "mimetype": "text/x-python",
   "name": "python",
   "nbconvert_exporter": "python",
   "pygments_lexer": "ipython3",
   "version": "3.10.6"
  }
 },
 "nbformat": 4,
 "nbformat_minor": 5
}
